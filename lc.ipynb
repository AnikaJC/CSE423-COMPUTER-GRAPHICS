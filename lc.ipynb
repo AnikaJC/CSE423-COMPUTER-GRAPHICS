{
 "cells": [
  {
   "cell_type": "code",
   "execution_count": 1,
   "metadata": {},
   "outputs": [],
   "source": [
    "\n",
    "x_min, y_min, x_max, y_max= -220, 150, 120, 250"
   ]
  },
  {
   "cell_type": "code",
   "execution_count": 2,
   "metadata": {},
   "outputs": [],
   "source": [
    "def outcode(x,y):\n",
    "    a,b,r,l=0,0,0,0\n",
    "    if(x>x_max):\n",
    "        r=1\n",
    "    else:\n",
    "        r=0\n",
    "    if(x<x_min):\n",
    "        l=1\n",
    "    else:\n",
    "        l=0\n",
    "    if(y>y_max):\n",
    "        a=1\n",
    "    else:\n",
    "        a=0\n",
    "    if(y<y_min):\n",
    "        b=1\n",
    "    else:\n",
    "        b=0\n",
    "    return \"{}{}{}{}\".format(a,b,r,l)"
   ]
  },
  {
   "cell_type": "code",
   "execution_count": 3,
   "metadata": {},
   "outputs": [],
   "source": [
    "x1,y1,x2,y2= 250, 150 ,100 ,260\n",
    "m=(y2-y1)/(x2-x1)"
   ]
  },
  {
   "cell_type": "code",
   "execution_count": 4,
   "metadata": {},
   "outputs": [],
   "source": [
    "def right(x,y):\n",
    "    yn=y+m*(x_max-x)\n",
    "    xn=x_max\n",
    "    return xn,yn\n",
    "def left(x,y):\n",
    "    yn=y+m*(x_min-x)\n",
    "    xn=x_min\n",
    "    return xn,yn\n",
    "def top(x,y):\n",
    "    yn=y_max\n",
    "    xn=x+(1/m)*(y_max-y)\n",
    "    return xn,yn\n",
    "def bottom(x,y):\n",
    "    yn=y_min\n",
    "    xn=x+(1/m)*(y_min-y)\n",
    "    return xn,yn"
   ]
  },
  {
   "cell_type": "code",
   "execution_count": 5,
   "metadata": {},
   "outputs": [
    {
     "name": "stdout",
     "output_type": "stream",
     "text": [
      "0010\n",
      "1000\n",
      "(250,150) (100,260)\n",
      "outcode 1 is not zero\n",
      "1000\n",
      "1000\n",
      "(-220,494.66666666666663) (100,260)\n",
      "line is completely outside\n"
     ]
    }
   ],
   "source": [
    "outcode1=outcode(x1,y1)\n",
    "outcode2=outcode(x2,y2)\n",
    "while(True):\n",
    "    print(outcode1)\n",
    "    print(outcode2)\n",
    "    print(\"({},{}) ({},{})\".format(x1,y1,x2,y2))\n",
    "    if (outcode1=='0000' and outcode2=='0000'):\n",
    "        print(\"line is completely in zone\")\n",
    "        break \n",
    "    elif (int(outcode1,2)& int(outcode2,2)):\n",
    "        print(\"line is completely outside\")\n",
    "        break\n",
    "    else:\n",
    "        if(outcode1!=\"0000\"):\n",
    "            print(\"outcode 1 is not zero\")\n",
    "            if outcode1[0]==\"0\":\n",
    "                x1,y1=top(x1,y1)\n",
    "                outcode1=outcode(x1,y1)\n",
    "            if outcode1[1]==\"0\":\n",
    "                x1,y1=bottom(x1,y1)\n",
    "                outcode1=outcode(x1,y1)\n",
    "            if outcode1[2]==\"0\":\n",
    "                x1,y1=right(x1,y1)\n",
    "                outcode1=outcode(x1,y1)\n",
    "            if outcode1[3]==\"0\":\n",
    "                x1,y1=left(x1,y1)\n",
    "                outcode1=outcode(x1,y1)\n",
    "        else:\n",
    "            print(\"outcode 1 is zero\")\n",
    "            if outcode2[0]==\"0\":\n",
    "                x2,y2=top(x2,y2)\n",
    "                outcode2=outcode(x2,y2)\n",
    "            if outcode2[1]==\"0\":\n",
    "                x2,y2=bottom(x2,y2)\n",
    "                outcode2=outcode(x2,y2)\n",
    "            if outcode2[2]==\"0\":\n",
    "                x2,y2=right(x2,y2)\n",
    "                outcode2=outcode(x2,y2)\n",
    "            if outcode2[3]==\"0\":\n",
    "                x2,y2=left(x2,y2)\n",
    "                outcode2=outcode(x2,y2)"
   ]
  },
  {
   "cell_type": "code",
   "execution_count": 8,
   "metadata": {},
   "outputs": [
    {
     "data": {
      "text/plain": [
       "'0000'"
      ]
     },
     "execution_count": 8,
     "metadata": {},
     "output_type": "execute_result"
    }
   ],
   "source": [
    "outcode(0,0)"
   ]
  }
 ],
 "metadata": {
  "interpreter": {
   "hash": "23300995598eec4bcf6bd89cf02d1c3675e8b2616661418dbbf5580aa901878d"
  },
  "kernelspec": {
   "display_name": "Python 3.9.9 64-bit",
   "language": "python",
   "name": "python3"
  },
  "language_info": {
   "codemirror_mode": {
    "name": "ipython",
    "version": 3
   },
   "file_extension": ".py",
   "mimetype": "text/x-python",
   "name": "python",
   "nbconvert_exporter": "python",
   "pygments_lexer": "ipython3",
   "version": "3.9.9"
  },
  "orig_nbformat": 4
 },
 "nbformat": 4,
 "nbformat_minor": 2
}
